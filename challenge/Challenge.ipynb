{
 "cells": [
  {
   "cell_type": "code",
   "execution_count": 1,
   "metadata": {
    "collapsed": true
   },
   "outputs": [],
   "source": [
    "import math\n",
    "\n",
    "from IMLearn import BaseEstimator\n",
    "from challenge.agoda_cancellation_estimator import AgodaCancellationEstimator\n",
    "# from IMLearn.utils import split_train_test\n",
    "import sklearn\n",
    "\n",
    "import numpy as np\n",
    "import pandas as pd\n",
    "\n",
    "\n",
    "def _to_date_number(features: pd.DataFrame, keys: list) -> None:\n",
    "    for field in keys:\n",
    "        features[field] = pd.to_datetime(features[field])\n",
    "        features[field] = features[field].apply(lambda x: x.value)\n",
    "\n",
    "\n",
    "def _to_day_of_week(features, full_data, keys):\n",
    "    for field in keys:\n",
    "        new_key = field + \"_dayofweek\"\n",
    "        features[new_key] = pd.to_datetime(full_data[field])\n",
    "        features[new_key] = features[new_key].apply(lambda x: x.dayofweek)\n",
    "\n",
    "\n",
    "def _add_new_cols(features, full_data):\n",
    "    _to_day_of_week(features, full_data, [\"checkin_date\", \"checkout_date\", \"booking_datetime\"])\n",
    "    features['stay_days'] = (pd.to_datetime(full_data['checkout_date'])\n",
    "                             - pd.to_datetime(full_data['checkin_date']))\n",
    "    features['stay_days'] = features['stay_days'].apply(lambda x: x.days)\n",
    "    features['days_till_vacation'] = (pd.to_datetime(full_data['checkin_date'])\n",
    "                                      - pd.to_datetime(full_data['booking_datetime']))\n",
    "    features['days_till_vacation'] = features['days_till_vacation'].apply(lambda x: x.days)\n",
    "    features['is_checkin_on_weekend'] = features['checkin_date_dayofweek'].apply(lambda x: x > 4)\n",
    "\n",
    "    # for title in ['checkout_date']:\n",
    "    #     del features[title]\n",
    "\n",
    "\n",
    "def _add_categories(features, full_data, titles):\n",
    "    for title in titles:\n",
    "        features = pd.concat((features, pd.get_dummies(full_data[title], drop_first=True)),\n",
    "                         axis=1)\n",
    "    return features\n",
    "\n",
    "\n",
    "def load_data(filename: str, isTest: bool):\n",
    "    \"\"\"\n",
    "    Load Agoda booking cancellation dataset\n",
    "    Parameters\n",
    "    ----------\n",
    "    filename: str\n",
    "        Path to house prices dataset\n",
    "\n",
    "    Returns\n",
    "    -------\n",
    "    Design matrix and response vector in either of the following formats:\n",
    "    1) Single dataframe with last column representing the response\n",
    "    2) Tuple of pandas.DataFrame and Series\n",
    "    3) Tuple of ndarray of shape (n_samples, n_features) and ndarray of shape (n_samples,)\n",
    "    \"\"\"\n",
    "    full_data = pd.read_csv(filename)  #.dropna().drop_duplicates()\n",
    "    good_fields = [ \"hotel_star_rating\", \"is_first_booking\", \"is_user_logged_in\",\n",
    "                     \"hotel_live_date\",\n",
    "                       \"guest_is_not_the_customer\", \"no_of_adults\", \"no_of_children\", \"no_of_extra_bed\", \"no_of_room\"]\n",
    "    features = full_data[good_fields]\n",
    "    _add_new_cols(features, full_data)  # adding columns for the length of the stay, is weekend, day of week\n",
    "    features = _add_categories(features, full_data,\n",
    "                               ['accommadation_type_name', 'customer_nationality', 'hotel_country_code',\n",
    "                                'charge_option', 'original_payment_type', 'original_payment_currency'])\n",
    "    boolean_features = [\"is_first_booking\", \"is_user_logged_in\"]\n",
    "    for f in boolean_features:\n",
    "        features[f] = np.where(features[f] == True, 1, 0)\n",
    "    # features[\"cancellation_datetime\"].replace(np.nan, \"\", inplace=True)\n",
    "    _to_date_number(features, [\"hotel_live_date\"])\n",
    "    features = features.loc[:, ~features.columns.duplicated()]\n",
    "    features.reset_index(inplace=True, drop=True)\n",
    "    if not isTest:\n",
    "        cancel_diff = pd.to_datetime(full_data['cancellation_datetime']) - pd.to_datetime(full_data['booking_datetime'])\n",
    "        y_values = pd.to_numeric(pd.to_datetime(full_data[\"cancellation_datetime\"]))\n",
    "        y_values.reset_index(inplace=True, drop=True)\n",
    "        return features, y_values\n",
    "    return features"
   ]
  },
  {
   "cell_type": "code",
   "execution_count": 2,
   "outputs": [],
   "source": [
    "def evaluate_and_export(estimator: BaseEstimator, X: np.ndarray, filename: str):\n",
    "    \"\"\"\n",
    "    Export to specified file the prediction results of given estimator on given testset.\n",
    "\n",
    "    File saved is in csv format with a single column named 'predicted_values' and n_samples rows containing\n",
    "    predicted values.\n",
    "\n",
    "    Parameters\n",
    "    ----------\n",
    "    estimator: BaseEstimator or any object implementing predict() method as in BaseEstimator (for example sklearn)\n",
    "        Fitted estimator to use for prediction\n",
    "\n",
    "    X: ndarray of shape (n_samples, n_features)\n",
    "        Test design matrix to predict its responses\n",
    "\n",
    "    filename:\n",
    "        path to store file at\n",
    "\n",
    "    \"\"\"\n",
    "    predictions = estimator.predict(X)\n",
    "    prediction_dates = pd.to_datetime(predictions)\n",
    "\n",
    "    # pred = estimator.predict(X)\n",
    "    pd.DataFrame(prediction_dates, columns=[\"predicted_values\"]).to_csv(filename, index=False)"
   ],
   "metadata": {
    "collapsed": false,
    "pycharm": {
     "name": "#%%\n"
    }
   }
  },
  {
   "cell_type": "code",
   "execution_count": 3,
   "outputs": [],
   "source": [
    "\n",
    "def expand_to_train_data(test_data, train_columns):\n",
    "    cols_to_add = set(train_columns) - set(test_data.columns)\n",
    "    cols_to_remove = set(test_data.columns) - set(train_columns)\n",
    "    for col in cols_to_add:\n",
    "        test_data[col] = 0\n",
    "    for col in cols_to_remove:\n",
    "        del test_data[col]\n",
    "    test_data = test_data[list(train_columns)]\n",
    "    return test_data"
   ],
   "metadata": {
    "collapsed": false,
    "pycharm": {
     "name": "#%%\n"
    }
   }
  },
  {
   "cell_type": "code",
   "execution_count": 4,
   "outputs": [
    {
     "name": "stderr",
     "output_type": "stream",
     "text": [
      "C:\\Users\\hadar\\anaconda3\\lib\\site-packages\\ipykernel_launcher.py:21: SettingWithCopyWarning: \n",
      "A value is trying to be set on a copy of a slice from a DataFrame.\n",
      "Try using .loc[row_indexer,col_indexer] = value instead\n",
      "\n",
      "See the caveats in the documentation: https://pandas.pydata.org/pandas-docs/stable/user_guide/indexing.html#returning-a-view-versus-a-copy\n",
      "C:\\Users\\hadar\\anaconda3\\lib\\site-packages\\ipykernel_launcher.py:22: SettingWithCopyWarning: \n",
      "A value is trying to be set on a copy of a slice from a DataFrame.\n",
      "Try using .loc[row_indexer,col_indexer] = value instead\n",
      "\n",
      "See the caveats in the documentation: https://pandas.pydata.org/pandas-docs/stable/user_guide/indexing.html#returning-a-view-versus-a-copy\n",
      "C:\\Users\\hadar\\anaconda3\\lib\\site-packages\\ipykernel_launcher.py:28: SettingWithCopyWarning: \n",
      "A value is trying to be set on a copy of a slice from a DataFrame.\n",
      "Try using .loc[row_indexer,col_indexer] = value instead\n",
      "\n",
      "See the caveats in the documentation: https://pandas.pydata.org/pandas-docs/stable/user_guide/indexing.html#returning-a-view-versus-a-copy\n",
      "C:\\Users\\hadar\\anaconda3\\lib\\site-packages\\ipykernel_launcher.py:29: SettingWithCopyWarning: \n",
      "A value is trying to be set on a copy of a slice from a DataFrame.\n",
      "Try using .loc[row_indexer,col_indexer] = value instead\n",
      "\n",
      "See the caveats in the documentation: https://pandas.pydata.org/pandas-docs/stable/user_guide/indexing.html#returning-a-view-versus-a-copy\n",
      "C:\\Users\\hadar\\anaconda3\\lib\\site-packages\\ipykernel_launcher.py:31: SettingWithCopyWarning: \n",
      "A value is trying to be set on a copy of a slice from a DataFrame.\n",
      "Try using .loc[row_indexer,col_indexer] = value instead\n",
      "\n",
      "See the caveats in the documentation: https://pandas.pydata.org/pandas-docs/stable/user_guide/indexing.html#returning-a-view-versus-a-copy\n",
      "C:\\Users\\hadar\\anaconda3\\lib\\site-packages\\ipykernel_launcher.py:32: SettingWithCopyWarning: \n",
      "A value is trying to be set on a copy of a slice from a DataFrame.\n",
      "Try using .loc[row_indexer,col_indexer] = value instead\n",
      "\n",
      "See the caveats in the documentation: https://pandas.pydata.org/pandas-docs/stable/user_guide/indexing.html#returning-a-view-versus-a-copy\n",
      "C:\\Users\\hadar\\anaconda3\\lib\\site-packages\\ipykernel_launcher.py:33: SettingWithCopyWarning: \n",
      "A value is trying to be set on a copy of a slice from a DataFrame.\n",
      "Try using .loc[row_indexer,col_indexer] = value instead\n",
      "\n",
      "See the caveats in the documentation: https://pandas.pydata.org/pandas-docs/stable/user_guide/indexing.html#returning-a-view-versus-a-copy\n"
     ]
    }
   ],
   "source": [
    "np.random.seed(0)\n",
    "\n",
    "# Load data\n",
    "df, cancellation_labels = load_data(\"../datasets/agoda_cancellation_train.csv\", isTest=False)"
   ],
   "metadata": {
    "collapsed": false,
    "pycharm": {
     "name": "#%%\n"
    }
   }
  },
  {
   "cell_type": "code",
   "execution_count": 5,
   "outputs": [],
   "source": [
    "train_X, test_X, train_y, test_y = sklearn.model_selection.train_test_split(df, cancellation_labels)\n",
    "training_features = df.columns"
   ],
   "metadata": {
    "collapsed": false,
    "pycharm": {
     "name": "#%%\n"
    }
   }
  },
  {
   "cell_type": "code",
   "execution_count": 6,
   "outputs": [
    {
     "name": "stderr",
     "output_type": "stream",
     "text": [
      "C:\\Users\\hadar\\anaconda3\\lib\\site-packages\\ipykernel_launcher.py:21: SettingWithCopyWarning: \n",
      "A value is trying to be set on a copy of a slice from a DataFrame.\n",
      "Try using .loc[row_indexer,col_indexer] = value instead\n",
      "\n",
      "See the caveats in the documentation: https://pandas.pydata.org/pandas-docs/stable/user_guide/indexing.html#returning-a-view-versus-a-copy\n",
      "C:\\Users\\hadar\\anaconda3\\lib\\site-packages\\ipykernel_launcher.py:22: SettingWithCopyWarning: \n",
      "A value is trying to be set on a copy of a slice from a DataFrame.\n",
      "Try using .loc[row_indexer,col_indexer] = value instead\n",
      "\n",
      "See the caveats in the documentation: https://pandas.pydata.org/pandas-docs/stable/user_guide/indexing.html#returning-a-view-versus-a-copy\n",
      "C:\\Users\\hadar\\anaconda3\\lib\\site-packages\\ipykernel_launcher.py:28: SettingWithCopyWarning: \n",
      "A value is trying to be set on a copy of a slice from a DataFrame.\n",
      "Try using .loc[row_indexer,col_indexer] = value instead\n",
      "\n",
      "See the caveats in the documentation: https://pandas.pydata.org/pandas-docs/stable/user_guide/indexing.html#returning-a-view-versus-a-copy\n",
      "C:\\Users\\hadar\\anaconda3\\lib\\site-packages\\ipykernel_launcher.py:29: SettingWithCopyWarning: \n",
      "A value is trying to be set on a copy of a slice from a DataFrame.\n",
      "Try using .loc[row_indexer,col_indexer] = value instead\n",
      "\n",
      "See the caveats in the documentation: https://pandas.pydata.org/pandas-docs/stable/user_guide/indexing.html#returning-a-view-versus-a-copy\n",
      "C:\\Users\\hadar\\anaconda3\\lib\\site-packages\\ipykernel_launcher.py:31: SettingWithCopyWarning: \n",
      "A value is trying to be set on a copy of a slice from a DataFrame.\n",
      "Try using .loc[row_indexer,col_indexer] = value instead\n",
      "\n",
      "See the caveats in the documentation: https://pandas.pydata.org/pandas-docs/stable/user_guide/indexing.html#returning-a-view-versus-a-copy\n",
      "C:\\Users\\hadar\\anaconda3\\lib\\site-packages\\ipykernel_launcher.py:32: SettingWithCopyWarning: \n",
      "A value is trying to be set on a copy of a slice from a DataFrame.\n",
      "Try using .loc[row_indexer,col_indexer] = value instead\n",
      "\n",
      "See the caveats in the documentation: https://pandas.pydata.org/pandas-docs/stable/user_guide/indexing.html#returning-a-view-versus-a-copy\n",
      "C:\\Users\\hadar\\anaconda3\\lib\\site-packages\\ipykernel_launcher.py:33: SettingWithCopyWarning: \n",
      "A value is trying to be set on a copy of a slice from a DataFrame.\n",
      "Try using .loc[row_indexer,col_indexer] = value instead\n",
      "\n",
      "See the caveats in the documentation: https://pandas.pydata.org/pandas-docs/stable/user_guide/indexing.html#returning-a-view-versus-a-copy\n"
     ]
    }
   ],
   "source": [
    "# Fit model over data\n",
    "estimator = AgodaCancellationEstimator().fit(train_X, train_y)\n",
    "test_set = load_data(\"test_set_week_1.csv\", isTest=True)\n",
    "test_set = expand_to_train_data(test_set, training_features)"
   ],
   "metadata": {
    "collapsed": false,
    "pycharm": {
     "name": "#%%\n"
    }
   }
  },
  {
   "cell_type": "code",
   "execution_count": null,
   "outputs": [],
   "source": [
    "evaluate_and_export(estimator, test_X, \"predicted.csv\")\n",
    "pd.DataFrame(pd.to_datetime(test_y)).to_csv(\"testy.csv\", index=False)\n",
    "print(f\"Percent wrong classifications: {estimator.loss(test_X, test_y)}\")"
   ],
   "metadata": {
    "collapsed": false,
    "pycharm": {
     "name": "#%%\n",
     "is_executing": true
    }
   }
  }
 ],
 "metadata": {
  "kernelspec": {
   "display_name": "Python 3",
   "language": "python",
   "name": "python3"
  },
  "language_info": {
   "codemirror_mode": {
    "name": "ipython",
    "version": 2
   },
   "file_extension": ".py",
   "mimetype": "text/x-python",
   "name": "python",
   "nbconvert_exporter": "python",
   "pygments_lexer": "ipython2",
   "version": "2.7.6"
  }
 },
 "nbformat": 4,
 "nbformat_minor": 0
}